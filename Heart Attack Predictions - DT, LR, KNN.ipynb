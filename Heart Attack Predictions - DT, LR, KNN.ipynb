{
 "cells": [
  {
   "cell_type": "markdown",
   "id": "f10cb746",
   "metadata": {},
   "source": [
    "# Project Goal:\n",
    "\n",
    "The Heart Attack Analysis & Prediction Dataset by RASHIK RAHMAN on Kaggle provides a vital dataset on medical information for patients with low and high chances of heart attack. By analyzing the learning algorithms, Decision Trees (DT), Logistic Regression (LR), and k-Nearest Neighbors (KNN), we can develop a predictive model that determines the best algorithm for this dataset. This project will ultima\n",
    "Our dataset comprises crucial medical information about patients, enabling us to assess the likelihood of a heart attack occurrence. By leveraging various machine learning algorithms such as Logistic Regression (LR), Support Vector Machines (SVM), k-Nearest Neighbors (KNN), and Decision Trees (DT), our goal is to develop a robust predictive model. Through this exploration, we aim to determine which algorithm best suits our dataset, ultimately contributing to the ongoing efforts in cardiovascular health prediction.\n",
    "\n"
   ]
  },
  {
   "cell_type": "code",
   "execution_count": null,
   "id": "33a48384",
   "metadata": {},
   "outputs": [],
   "source": []
  }
 ],
 "metadata": {
  "kernelspec": {
   "display_name": "Python 3 (ipykernel)",
   "language": "python",
   "name": "python3"
  },
  "language_info": {
   "codemirror_mode": {
    "name": "ipython",
    "version": 3
   },
   "file_extension": ".py",
   "mimetype": "text/x-python",
   "name": "python",
   "nbconvert_exporter": "python",
   "pygments_lexer": "ipython3",
   "version": "3.10.9"
  }
 },
 "nbformat": 4,
 "nbformat_minor": 5
}
