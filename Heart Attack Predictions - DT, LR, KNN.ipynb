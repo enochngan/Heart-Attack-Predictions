{
 "cells": [
  {
   "cell_type": "markdown",
   "id": "f10cb746",
   "metadata": {},
   "source": [
    "# Project Goal:\n",
    "\n",
    "The Heart Attack Analysis & Prediction Dataset by RASHIK RAHMAN on Kaggle provides a vital dataset on medical information for patients with low and high chances of heart attack. By analyzing the learning algorithms, Decision Trees (DT), Logistic Regression (LR), and k-Nearest Neighbors (KNN), we can develop a predictive model that determines the best algorithm for this dataset. This project will ultima\n",
    "Our dataset comprises crucial medical information about patients, enabling us to assess the likelihood of a heart attack occurrence. By leveraging various machine learning algorithms such as Logistic Regression (LR), Support Vector Machines (SVM), k-Nearest Neighbors (KNN), and Decision Trees (DT), our goal is to develop a robust predictive model. Through this exploration, we aim to determine which algorithm best suits our dataset, ultimately contributing to the ongoing efforts in cardiovascular health prediction.\n",
    "\n"
   ]
  },
  {
   "cell_type": "markdown",
   "id": "5dabeaf8",
   "metadata": {},
   "source": [
    "## Key\n",
    "\n",
    "__Age__ : Age of the patient\n",
    "\n",
    "__Sex__ : Sex of the patient\n",
    "\n",
    "__exang__: exercise induced angina (1 = yes; 0 = no)\n",
    "\n",
    "__ca__: number of major vessels (0-3)\n",
    "\n",
    "__cp__: Chest Pain type chest pain type\n",
    "\n",
    "__Value 1__: typical angina\n",
    "__Value 2__: atypical angina\n",
    "__Value 3__: non-anginal pain\n",
    "__Value 4__: asymptomatic\n",
    "__trtbps__: resting blood pressure (in mm Hg)\n",
    "\n",
    "__chol__: cholestoral in mg/dl fetched via BMI sensor\n",
    "\n",
    "__fbs__: (fasting blood sugar > 120 mg/dl) (1 = true; 0 = false)\n",
    "\n",
    "__rest_ecg__: resting electrocardiographic results\n",
    "\n",
    "__Value 0__: normal\n",
    "__Value 1__: having ST-T wave abnormality (T wave inversions and/or ST elevation or depression of > 0.05 mV)\n",
    "__Value 2__: showing probable or definite left ventricular hypertrophy by Estes' criteria\n",
    "__thalach__: maximum heart rate achieved\n",
    "\n",
    "__target__: 0= less chance of heart attack 1= more chance of heart attack"
   ]
  },
  {
   "cell_type": "code",
   "execution_count": null,
   "id": "dd4d17df",
   "metadata": {},
   "outputs": [],
   "source": []
  }
 ],
 "metadata": {
  "kernelspec": {
   "display_name": "Python 3 (ipykernel)",
   "language": "python",
   "name": "python3"
  },
  "language_info": {
   "codemirror_mode": {
    "name": "ipython",
    "version": 3
   },
   "file_extension": ".py",
   "mimetype": "text/x-python",
   "name": "python",
   "nbconvert_exporter": "python",
   "pygments_lexer": "ipython3",
   "version": "3.10.9"
  }
 },
 "nbformat": 4,
 "nbformat_minor": 5
}
